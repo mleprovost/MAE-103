{
 "cells": [
  {
   "cell_type": "markdown",
   "metadata": {},
   "source": [
    "<img src=\"logo_UCLA_blue_boxed.svg\" alt=\"ucla logo\" width=\"150\" align=\"left\"/>"
   ]
  },
  {
   "cell_type": "markdown",
   "metadata": {},
   "source": [
    "### **MAE 103 - Elementary Fluid Mechanics**\n",
    "\n",
    "<hr />"
   ]
  },
  {
   "cell_type": "markdown",
   "metadata": {},
   "source": [
    "# Velocity profiles"
   ]
  },
  {
   "cell_type": "markdown",
   "metadata": {},
   "source": [
    "In this notebook, we will discuss a useful way to visualize a flow in fluid mechanics: the **velocity profile**."
   ]
  },
  {
   "cell_type": "markdown",
   "metadata": {},
   "source": [
    "To start, let's consider one of the most basic types of flow: the linear shear flow, often called **Couette flow**. This type of flow is generated, for example, between two parallel walls when one wall is moving and the other is stationary. In the figure below, the top wall is moving with velocity $U$, the lower wall is stationary:\n",
    "\n",
    "<img src=\"Couette.svg\" alt=\"velocity profile\" width=\"300\" align=\"center\"/>\n",
    "\n",
    "Because of the **no-slip condition**, the fluid next to each wall moves with it. The fluid next to the upper wall moves at velocity $U$, the fluid next to the lower wall is at rest.\n",
    "\n",
    "The velocity profile depicts $u(y)$, the horizontal component of velocity as a function of vertical position, $y$. This increases linearly from the lower to the upper wall. In fact, the function is just\n",
    "\n",
    "$$u(y) = Uy/H$$\n",
    "\n",
    "The arrows indicate the direction that the fluid is moving, and the lengths of the arrows indicate the relative speed at that $y$ position."
   ]
  },
  {
   "cell_type": "markdown",
   "metadata": {},
   "source": [
    "### Plotting velocity profiles"
   ]
  },
  {
   "cell_type": "markdown",
   "metadata": {},
   "source": [
    "The arrows are helpful, but you can also plot a velocity profile without them. For example, consider the following velocity:\n",
    "\n",
    "$$u(y) = \\frac{4U_c}{H^2} y (H - y)$$\n",
    "\n",
    "The coefficient $U_c$ is a speed, and $H$ is the gap height."
   ]
  },
  {
   "cell_type": "markdown",
   "metadata": {},
   "source": [
    "Let's define a function that evaluates this velocity. Here, `y`, `Uc`, and `H` are to be given as arguments to the function."
   ]
  },
  {
   "cell_type": "code",
   "execution_count": null,
   "metadata": {},
   "outputs": [],
   "source": [
    "u(y,Uc,H) = 4*Uc/H^2*y*(H-y) "
   ]
  },
  {
   "cell_type": "markdown",
   "metadata": {},
   "source": [
    "Suppose the gap height $H$ is 1 cm and the speed $U_c$ is 1 m/s. We will evaluate this velocity at a range of locations between 0 and $H$:"
   ]
  },
  {
   "cell_type": "code",
   "execution_count": null,
   "metadata": {},
   "outputs": [],
   "source": [
    "H = 0.01  # 1 cm = 0.01 m\n",
    "Uc = 1.0\n",
    "y = range(0,H,length=101) # 101 points to evaluate at, just to make it look smooth."
   ]
  },
  {
   "cell_type": "markdown",
   "metadata": {},
   "source": [
    "Now we evaluate the velocity function at the range of $y$ locations. (Remember that the `.` vectorizes the evaluation of a function.)"
   ]
  },
  {
   "cell_type": "code",
   "execution_count": null,
   "metadata": {},
   "outputs": [],
   "source": [
    "u.(y,Uc,H)"
   ]
  },
  {
   "cell_type": "markdown",
   "metadata": {},
   "source": [
    "Notice that $u$ is 0 at the beginning and end of the range. Let's plot it. But let's plot it as a velocity profile, which means we make $u$ the 'x' axis and $y$ the 'y' axis."
   ]
  },
  {
   "cell_type": "code",
   "execution_count": null,
   "metadata": {},
   "outputs": [],
   "source": [
    "using Plots"
   ]
  },
  {
   "cell_type": "code",
   "execution_count": null,
   "metadata": {},
   "outputs": [],
   "source": [
    "ps = plot(u.(y,Uc,H),y,xlim=(0,2Uc),ylim=(0,H),\n",
    "    legend=false,xlabel=\"u(y) (m/s)\",ylabel=\"y (m)\")"
   ]
  },
  {
   "cell_type": "markdown",
   "metadata": {},
   "source": [
    "The top and bottom of this plot suggest that these are stationary walls where the flow is at rest. In fact, this is the velocity profile associated with pressure-driven flow through the gap."
   ]
  },
  {
   "cell_type": "markdown",
   "metadata": {},
   "source": [
    "#### Dimensionless plots\n",
    "We should get in the habit of making our plots \"dimensionless\". This has many benefits, including ensuring that the results are not dependent on the specific gap size and speed."
   ]
  },
  {
   "cell_type": "code",
   "execution_count": null,
   "metadata": {},
   "outputs": [],
   "source": [
    "ps = plot(u.(y,Uc,H)/Uc,y/H,xlim=(0,2),ylim=(0,1),\n",
    "    legend=false,xlabel=\"u(y)/Uc\",ylabel=\"y/H\",yticks=0:0.25:1)"
   ]
  },
  {
   "cell_type": "markdown",
   "metadata": {},
   "source": [
    "Now we can read off the velocity as a fraction of the maximum (centerline) speed, and the position as a fraction of the gap height. There are no units on this plot, so it is irrelevant what system of units was used in the first place. (Notice that we also made sure that the centerline has its own tick mark, to make it easier to locate it.)"
   ]
  },
  {
   "cell_type": "markdown",
   "metadata": {},
   "source": [
    "### Shear stress\n",
    "We can calculate the viscous shear stress at any location with the equation\n",
    "\n",
    "$$\\tau = \\mu \\frac{\\mathrm{d}u}{\\mathrm{d}y}$$"
   ]
  },
  {
   "cell_type": "markdown",
   "metadata": {},
   "source": [
    "In fact, in Couette flow, shear stress is the same everywhere:\n",
    "\n",
    "$$\\tau = \\mu U/H$$\n",
    "\n",
    "This represents, e.g., the resistive force (per unit area) that the fluid applies (to the left) on the upper wall while the wall moves to the right.\n",
    "\n",
    "It also represents the force per unit area that the lower wall must withstand in order to remain stationary. The fluid is trying to drag the lower wall to the right, so this must be balanced by some reaction force in the wall to the left."
   ]
  },
  {
   "cell_type": "markdown",
   "metadata": {},
   "source": [
    "The **rate of work** (per unit area) required to move the upper wall is $\\dot{W} = \\tau U$. This would be measured in units of, e.g., $W/m^2$."
   ]
  },
  {
   "cell_type": "markdown",
   "metadata": {},
   "source": [
    "#### Viscometry\n",
    "We can use the relationship between the velocity and shear stress for many practical tasks. In particular, it can be used to measure the viscosity of a given fluid, in a device called a **viscometer**. This device consists of a rotating inner cylinder of radius $R$ with prescribed angular velocity $\\Omega$ and a stationary outer wall, and a fluid with unknown viscosity, $\\mu$, in the gap of size $H$ between them.\n",
    "\n",
    "<img src=\"Viscometer.svg\" alt=\"velocity profile\" width=\"300\" align=\"center\"/>\n",
    "\n",
    "The basic idea of a viscometer is that one knows the angular velocity $\\Omega$ and measures the *torque*, $T$, required to rotate it. This torque is directly attributable to the viscous shear stress acting on the inner cylinder."
   ]
  },
  {
   "cell_type": "markdown",
   "metadata": {},
   "source": [
    "Even though this is an annular region and not a straight gap like in the basic Couette flow, the curvature does not matter here because the gap $H$ is very small compared to the radius $R$.\n",
    "\n",
    "Comparing this gap flow with the Couette flow above, the wall velocity here is $U = \\Omega R$, so the wall shear stress applied on the inner cylinder is\n",
    "\n",
    "$$\\tau = \\mu \\Omega R/H$$"
   ]
  },
  {
   "cell_type": "markdown",
   "metadata": {},
   "source": [
    "How do we relate this to the measured torque? Torque is the force applied on the wall times the distance to the center, $R$. The shear stress is uniformly applied on the inner cylinder, so the force applied by the fluid is the shear stress times the surface area,\n",
    "\n",
    "$$T = \\tau (2\\pi R L) R$$\n",
    "\n",
    "The term in parentheses is the surface area of the inner cylinder, where $L$ is its length (into the page).\n",
    "\n",
    "Thus, putting all of this together:\n",
    "\n",
    "$$ T = 2\\pi L\\mu \\Omega R^3/H$$"
   ]
  },
  {
   "cell_type": "markdown",
   "metadata": {},
   "source": [
    "#### A viscometer example"
   ]
  },
  {
   "cell_type": "markdown",
   "metadata": {},
   "source": [
    "Let's suppose that we take measurements of a viscometer with the following characteristics: inner radius $R = 6$ cm, gap height $H = 0.125$ cm, and length $L = 13$ cm."
   ]
  },
  {
   "cell_type": "code",
   "execution_count": null,
   "metadata": {},
   "outputs": [],
   "source": [
    "# converting everything to SI\n",
    "R = 0.06\n",
    "H = 0.00125\n",
    "L = 0.13;"
   ]
  },
  {
   "cell_type": "markdown",
   "metadata": {},
   "source": [
    "We run the viscometer at 6 different speeds and measure the required torque in each case. Here is the data we measured:"
   ]
  },
  {
   "cell_type": "code",
   "execution_count": null,
   "metadata": {},
   "outputs": [],
   "source": [
    "# angular velocity in rad/s\n",
    "Ω = [0.0,1.0,2.0,3.0,4.0,5.0,6.0]\n",
    "\n",
    "# torque in N.m\n",
    "T = [0.0,0.181,0.36,0.54,0.72,0.899,1.086];"
   ]
  },
  {
   "cell_type": "markdown",
   "metadata": {},
   "source": [
    "Note that, since we expect 0 torque at 0 speed, we have included that point in our data."
   ]
  },
  {
   "cell_type": "markdown",
   "metadata": {},
   "source": [
    "Let's plot the data to see the trend qualitatively:"
   ]
  },
  {
   "cell_type": "code",
   "execution_count": null,
   "metadata": {},
   "outputs": [],
   "source": [
    "scatter(Ω,T,legend=false,xlabel=\"Angular velocity (rad/s)\",ylabel=\"Torque (N.m)\")"
   ]
  },
  {
   "cell_type": "markdown",
   "metadata": {},
   "source": [
    "It looks quite linear! Let's fit a line through the data. We will use the `CurveFit` package for this:"
   ]
  },
  {
   "cell_type": "code",
   "execution_count": null,
   "metadata": {},
   "outputs": [],
   "source": [
    "using CurveFit"
   ]
  },
  {
   "cell_type": "markdown",
   "metadata": {},
   "source": [
    "The `linear_fit` function suits our needs:"
   ]
  },
  {
   "cell_type": "code",
   "execution_count": null,
   "metadata": {},
   "outputs": [],
   "source": [
    "?linear_fit"
   ]
  },
  {
   "cell_type": "code",
   "execution_count": null,
   "metadata": {},
   "outputs": [],
   "source": [
    "p = linear_fit(Ω,T)"
   ]
  },
  {
   "cell_type": "markdown",
   "metadata": {},
   "source": [
    "We'll ignore the first coefficient, because we don't expect a y intercept in our straight line. The second coefficient, $p[2]$, is the slope:\n",
    "\n",
    "$$T = p[2]\\Omega$$\n",
    "\n",
    "Compare this with the formula above relating torque to angular velocity, $T = 2\\pi L\\mu \\Omega R^3/H$. We clearly must expect that\n",
    "\n",
    "$$\\mu = p[2]H/(2\\pi L R^3)$$"
   ]
  },
  {
   "cell_type": "code",
   "execution_count": null,
   "metadata": {},
   "outputs": [],
   "source": [
    "μ = p[2]*H/(2π*L*R^3)"
   ]
  },
  {
   "cell_type": "markdown",
   "metadata": {},
   "source": [
    "Since we've put all units in SI, this value of viscosity must be in kg/(m.s). It's quite viscous! Only slightly smaller viscosity than glycerin."
   ]
  },
  {
   "cell_type": "code",
   "execution_count": null,
   "metadata": {},
   "outputs": [],
   "source": []
  }
 ],
 "metadata": {
  "kernelspec": {
   "display_name": "Julia 1.2.0",
   "language": "julia",
   "name": "julia-1.2"
  },
  "language_info": {
   "file_extension": ".jl",
   "mimetype": "application/julia",
   "name": "julia",
   "version": "1.2.0"
  }
 },
 "nbformat": 4,
 "nbformat_minor": 4
}
